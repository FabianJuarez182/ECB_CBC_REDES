{
 "cells": [
  {
   "cell_type": "code",
   "execution_count": 3,
   "metadata": {},
   "outputs": [],
   "source": [
    "# !pip install pillow numpy pycryptodome"
   ]
  },
  {
   "cell_type": "code",
   "execution_count": 17,
   "metadata": {},
   "outputs": [
    {
     "name": "stdout",
     "output_type": "stream",
     "text": [
      "Imagen cifrada en modo ECB > tux_encrypted_ecb.png\n",
      "Imagen cifrada en modo CBC > tux_encrypted_cbc.png\n"
     ]
    }
   ],
   "source": [
    "from PIL import Image\n",
    "import numpy as np\n",
    "from Crypto.Cipher import AES\n",
    "import os\n",
    "\n",
    "# Configuración\n",
    "input_image_path = 'tux.bmp'\n",
    "output_image_ecb_path = 'tux_encrypted_ecb.png'\n",
    "output_image_cbc_path = 'tux_encrypted_cbc.png'\n",
    "image_shape = (405, 480, 4) # Dimensiones reshape RGBA\n",
    "key = os.urandom(16)        # Clave de 128 bits (16 bytes)\n",
    "iv = os.urandom(16)         # Vector de inicialización para CBC de 16 bytes\n",
    "\n",
    "# 1. Cargar la imagen y convertirla a bytes\n",
    "img = Image.open(input_image_path).convert('RGBA')\n",
    "img_array = np.array(img)\n",
    "\n",
    "# Redimensionar si es necesario\n",
    "if img_array.shape != image_shape:\n",
    "    img_array = np.resize(img_array, image_shape)\n",
    "\n",
    "# Aplanar la imagen a bytes\n",
    "img_bytes = img_array.tobytes()\n",
    "\n",
    "# Agregar padding\n",
    "padding_length = 16 - (len(img_bytes) % 16)\n",
    "img_bytes_padded = img_bytes + bytes([padding_length] * padding_length)\n",
    "\n",
    "# 2. Cifrado en Modo ECB\n",
    "cipher_ecb = AES.new(key, AES.MODE_ECB)\n",
    "encrypted_bytes_ecb = cipher_ecb.encrypt(img_bytes_padded)\n",
    "\n",
    "# Convertir los bytes cifrados ECB a una imagen y guardarla\n",
    "encrypted_array_ecb = np.frombuffer(encrypted_bytes_ecb[:np.prod(image_shape)], dtype=np.uint8)\n",
    "encrypted_array_ecb = encrypted_array_ecb.reshape(image_shape)\n",
    "encrypted_img_ecb = Image.fromarray(encrypted_array_ecb, 'RGBA')\n",
    "encrypted_img_ecb.save(output_image_ecb_path)\n",
    "print(f\"Imagen cifrada en modo ECB > {output_image_ecb_path}\")\n",
    "\n",
    "# 3. Cifrado en Modo CBC\n",
    "cipher_cbc = AES.new(key, AES.MODE_CBC, iv)\n",
    "encrypted_bytes_cbc = cipher_cbc.encrypt(img_bytes_padded)\n",
    "\n",
    "# Convertir los bytes cifrados CBC a una imagen y guardarla\n",
    "encrypted_array_cbc = np.frombuffer(encrypted_bytes_cbc[:np.prod(image_shape)], dtype=np.uint8)\n",
    "encrypted_array_cbc = encrypted_array_cbc.reshape(image_shape)\n",
    "encrypted_img_cbc = Image.fromarray(encrypted_array_cbc, 'RGBA')\n",
    "encrypted_img_cbc.save(output_image_cbc_path)\n",
    "print(f\"Imagen cifrada en modo CBC > {output_image_cbc_path}\")\n"
   ]
  }
 ],
 "metadata": {
  "kernelspec": {
   "display_name": "base",
   "language": "python",
   "name": "python3"
  },
  "language_info": {
   "codemirror_mode": {
    "name": "ipython",
    "version": 3
   },
   "file_extension": ".py",
   "mimetype": "text/x-python",
   "name": "python",
   "nbconvert_exporter": "python",
   "pygments_lexer": "ipython3",
   "version": "3.11.7"
  }
 },
 "nbformat": 4,
 "nbformat_minor": 2
}
